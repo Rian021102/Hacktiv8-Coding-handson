{
 "cells": [
  {
   "cell_type": "code",
   "execution_count": 1,
   "id": "3ee6ec4e",
   "metadata": {},
   "outputs": [],
   "source": [
    "def myfunction (p,l):\n",
    "    \"function untuk menghitung luas\"\n",
    "    print(p*l)"
   ]
  },
  {
   "cell_type": "code",
   "execution_count": 2,
   "id": "57008cd1",
   "metadata": {},
   "outputs": [
    {
     "name": "stdout",
     "output_type": "stream",
     "text": [
      "8\n"
     ]
    }
   ],
   "source": [
    "myfunction (2,4)"
   ]
  },
  {
   "cell_type": "code",
   "execution_count": 3,
   "id": "1bd25fec",
   "metadata": {},
   "outputs": [],
   "source": [
    "def printme (str):\n",
    "    \"This prints a passed string into this function\"\n",
    "    print(str)\n",
    "    return\n"
   ]
  },
  {
   "cell_type": "code",
   "execution_count": 4,
   "id": "cbdee7b2",
   "metadata": {},
   "outputs": [
    {
     "name": "stdout",
     "output_type": "stream",
     "text": [
      "Hacktiv8\n"
     ]
    }
   ],
   "source": [
    "printme (\"Hacktiv8\")"
   ]
  },
  {
   "cell_type": "code",
   "execution_count": 8,
   "id": "9482b271",
   "metadata": {},
   "outputs": [
    {
     "name": "stdout",
     "output_type": "stream",
     "text": [
      "Values inside the function : [10, 20, 30, [1, 2, 3, 4]]\n",
      "values outside the function [10, 20, 30, [1, 2, 3, 4]]\n"
     ]
    }
   ],
   "source": [
    "def changeme(mylist):\n",
    "    mylist.append([1,2,3,4]);\n",
    "    print(\"Values inside the function :\",mylist )\n",
    "    return\n",
    "\n",
    "mylist = [10,20,30];\n",
    "changeme(mylist);\n",
    "print (\"values outside the function\", mylist)"
   ]
  },
  {
   "cell_type": "code",
   "execution_count": 10,
   "id": "10672326",
   "metadata": {},
   "outputs": [
    {
     "name": "stdout",
     "output_type": "stream",
     "text": [
      "Values inside the function : [1, 2, 3, 4]\n",
      "values outside the function [10, 20, 30]\n"
     ]
    }
   ],
   "source": [
    "def changeme(mylist):\n",
    "    mylist=([1,2,3,4]);\n",
    "    print(\"Values inside the function :\",mylist )\n",
    "    return\n",
    "\n",
    "mylist = [10,20,30];\n",
    "changeme(mylist);\n",
    "print (\"values outside the function\", mylist)"
   ]
  },
  {
   "cell_type": "code",
   "execution_count": 12,
   "id": "79432b5b",
   "metadata": {},
   "outputs": [
    {
     "ename": "TypeError",
     "evalue": "printme() missing 1 required positional argument: 'str'",
     "output_type": "error",
     "traceback": [
      "\u001b[0;31m---------------------------------------------------------------------------\u001b[0m",
      "\u001b[0;31mTypeError\u001b[0m                                 Traceback (most recent call last)",
      "Input \u001b[0;32mIn [12]\u001b[0m, in \u001b[0;36m<cell line: 4>\u001b[0;34m()\u001b[0m\n\u001b[1;32m      2\u001b[0m     \u001b[38;5;28mprint\u001b[39m(\u001b[38;5;28mstr\u001b[39m)\n\u001b[1;32m      3\u001b[0m     \u001b[38;5;28;01mreturn\u001b[39;00m;\n\u001b[0;32m----> 4\u001b[0m \u001b[43mprintme\u001b[49m\u001b[43m(\u001b[49m\u001b[43m)\u001b[49m\n",
      "\u001b[0;31mTypeError\u001b[0m: printme() missing 1 required positional argument: 'str'"
     ]
    }
   ],
   "source": [
    "def printme(str):\n",
    "    print(str)\n",
    "    return;\n",
    "printme()"
   ]
  },
  {
   "cell_type": "code",
   "execution_count": 13,
   "id": "c4dfb893",
   "metadata": {},
   "outputs": [
    {
     "name": "stdout",
     "output_type": "stream",
     "text": [
      "hacktiv8\n"
     ]
    }
   ],
   "source": [
    "def printme(str):\n",
    "    print(str)\n",
    "    return;\n",
    "printme(str=\"hacktiv8\")"
   ]
  },
  {
   "cell_type": "code",
   "execution_count": 14,
   "id": "36b34fbc",
   "metadata": {},
   "outputs": [
    {
     "name": "stdout",
     "output_type": "stream",
     "text": [
      "Name Anto\n",
      "Age 4\n"
     ]
    }
   ],
   "source": [
    "def printinfo(name,age):\n",
    "    print (\"Name\", name)\n",
    "    print(\"Age\", age)\n",
    "    return;\n",
    "printinfo(age=4, name=\"Anto\")"
   ]
  },
  {
   "cell_type": "code",
   "execution_count": 15,
   "id": "de92ae76",
   "metadata": {},
   "outputs": [
    {
     "name": "stdout",
     "output_type": "stream",
     "text": [
      "Name Anto\n",
      "Age 4\n",
      "Name hacktiv8\n",
      "Age 26\n"
     ]
    }
   ],
   "source": [
    "def printinfo(name,age =26):\n",
    "    print (\"Name\", name)\n",
    "    print(\"Age\", age)\n",
    "    return;\n",
    "printinfo(age=4, name=\"Anto\")\n",
    "printinfo(name=\"hacktiv8\")"
   ]
  },
  {
   "cell_type": "code",
   "execution_count": 16,
   "id": "c4f4f397",
   "metadata": {},
   "outputs": [
    {
     "name": "stdout",
     "output_type": "stream",
     "text": [
      "Output is: \n",
      "10\n",
      "Output is: \n",
      "70\n",
      "60\n",
      "50\n",
      "a\n"
     ]
    }
   ],
   "source": [
    "def printinfo(arg1, *vartuple):\n",
    "    print(\"Output is: \")\n",
    "    print(arg1)\n",
    "    for var in vartuple:\n",
    "        print(var)\n",
    "    return;\n",
    "printinfo(10)\n",
    "printinfo(70,60,50, \"a\")"
   ]
  },
  {
   "cell_type": "code",
   "execution_count": 18,
   "id": "56c9bc05",
   "metadata": {},
   "outputs": [
    {
     "name": "stdout",
     "output_type": "stream",
     "text": [
      "value of total:  30\n",
      "value of total:  40\n"
     ]
    }
   ],
   "source": [
    "sum = lambda arg1, arg2: arg1+arg2;\n",
    "def sum(arg1, arg2):\n",
    "    return arg1+arg2;\n",
    "print(\"value of total: \", sum(10,20))\n",
    "print(\"value of total: \", sum(20,20))\n",
    "\n",
    "\n"
   ]
  },
  {
   "cell_type": "code",
   "execution_count": 20,
   "id": "6071ed0c",
   "metadata": {},
   "outputs": [
    {
     "name": "stdout",
     "output_type": "stream",
     "text": [
      "inside the function:  30\n",
      "outside the function:  40\n"
     ]
    }
   ],
   "source": [
    "def sum(arg1, arg2):\n",
    "    total = arg1+arg2\n",
    "    total2=total+arg1\n",
    "    print (\"inside the function: \",total)\n",
    "    return total2;\n",
    "    \n",
    "total = sum (10,20)\n",
    "print(\"outside the function: \", total)\n",
    "\n"
   ]
  },
  {
   "cell_type": "code",
   "execution_count": 28,
   "id": "313d10e4",
   "metadata": {},
   "outputs": [
    {
     "name": "stdout",
     "output_type": "stream",
     "text": [
      "inside the function local total:  30\n",
      "outside the function total:  0\n"
     ]
    }
   ],
   "source": [
    "total = 0;\n",
    "def sum (arg1, arg2):\n",
    "    total=arg1+arg2;\n",
    "    print(\"inside the function local total: \", total)\n",
    "    return total;\n",
    "    \n",
    "sum(10,20);\n",
    "    \n",
    "print(\"outside the function total: \", total)"
   ]
  },
  {
   "cell_type": "code",
   "execution_count": 29,
   "id": "1998d2d3",
   "metadata": {},
   "outputs": [
    {
     "data": {
      "text/plain": [
       "40"
      ]
     },
     "execution_count": 29,
     "metadata": {},
     "output_type": "execute_result"
    }
   ],
   "source": [
    "jumlahkucing=20\n",
    "def jumlahhewan():\n",
    "    jumlahanjing=30\n",
    "    return jumlahkucing+jumlahanjing\n",
    "def jumlahkelinci():\n",
    "    return jumlahkucing+jumlahkucing;\n",
    "jumlahhewan()\n",
    "jumlahkelinci()\n",
    "    "
   ]
  },
  {
   "cell_type": "code",
   "execution_count": null,
   "id": "f65dee81",
   "metadata": {},
   "outputs": [],
   "source": []
  }
 ],
 "metadata": {
  "kernelspec": {
   "display_name": "Python 3 (ipykernel)",
   "language": "python",
   "name": "python3"
  },
  "language_info": {
   "codemirror_mode": {
    "name": "ipython",
    "version": 3
   },
   "file_extension": ".py",
   "mimetype": "text/x-python",
   "name": "python",
   "nbconvert_exporter": "python",
   "pygments_lexer": "ipython3",
   "version": "3.9.12"
  }
 },
 "nbformat": 4,
 "nbformat_minor": 5
}
